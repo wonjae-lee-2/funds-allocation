{
 "cells": [
  {
   "cell_type": "code",
   "execution_count": 1,
   "id": "62917204-775d-4df8-bed0-93deaadaf5a1",
   "metadata": {},
   "outputs": [],
   "source": [
    "using Distributed"
   ]
  },
  {
   "cell_type": "code",
   "execution_count": 2,
   "id": "2f49918c-a8b0-4c92-b09d-e3941aa30904",
   "metadata": {},
   "outputs": [
    {
     "data": {
      "text/plain": [
       "1-element Vector{Int64}:\n",
       " 1"
      ]
     },
     "execution_count": 2,
     "metadata": {},
     "output_type": "execute_result"
    }
   ],
   "source": [
    "procs()"
   ]
  },
  {
   "cell_type": "code",
   "execution_count": 3,
   "id": "f9b8cb62-82a4-4963-8294-2ed655d86b79",
   "metadata": {},
   "outputs": [
    {
     "data": {
      "text/plain": [
       "5-element Vector{String}:\n",
       " \"root@localhost:60001\"\n",
       " \"root@localhost:60002\"\n",
       " \"root@localhost:60003\"\n",
       " \"root@localhost:60004\"\n",
       " \"root@localhost:60005\""
      ]
     },
     "execution_count": 3,
     "metadata": {},
     "output_type": "execute_result"
    }
   ],
   "source": [
    "num_workers = 5 # This should match the number of workers created in the Jupyter Lab terminal.\n",
    "machines = [\"root@localhost:$(60000 + x)\" for x in 1:num_workers]"
   ]
  },
  {
   "cell_type": "code",
   "execution_count": 4,
   "id": "ee75b15d-f855-4dfe-a802-7b9d16e20d17",
   "metadata": {},
   "outputs": [
    {
     "name": "stderr",
     "output_type": "stream",
     "text": [
      "Warning: Permanently added '[localhost]:60003' (ECDSA) to the list of known hosts.\n",
      "Warning: Permanently added '[localhost]:60004' (ECDSA) to the list of known hosts.\n",
      "Warning: Permanently added '[localhost]:60002' (ECDSA) to the list of known hosts.\n",
      "Warning: Permanently added '[localhost]:60005' (ECDSA) to the list of known hosts.\n",
      "Warning: Permanently added '[localhost]:60001' (ECDSA) to the list of known hosts.\n"
     ]
    },
    {
     "data": {
      "text/plain": [
       "5-element Vector{Int64}:\n",
       " 2\n",
       " 3\n",
       " 4\n",
       " 5\n",
       " 6"
      ]
     },
     "execution_count": 4,
     "metadata": {},
     "output_type": "execute_result"
    }
   ],
   "source": [
    "addprocs(machines; tunnel = true, sshflags = `-o StrictHostKeyChecking=accept-new`, dir = \"/root\", topology = :master_worker)"
   ]
  },
  {
   "cell_type": "code",
   "execution_count": 5,
   "id": "c55fb3c9-9d6d-4b4f-81e6-a91841d8c821",
   "metadata": {},
   "outputs": [
    {
     "data": {
      "text/plain": [
       "6-element Vector{Int64}:\n",
       " 1\n",
       " 2\n",
       " 3\n",
       " 4\n",
       " 5\n",
       " 6"
      ]
     },
     "execution_count": 5,
     "metadata": {},
     "output_type": "execute_result"
    }
   ],
   "source": [
    "procs()"
   ]
  },
  {
   "cell_type": "code",
   "execution_count": 6,
   "id": "42bbb077-4d85-4f60-bd10-d7850c141be7",
   "metadata": {},
   "outputs": [
    {
     "data": {
      "text/plain": [
       "999989780"
      ]
     },
     "execution_count": 6,
     "metadata": {},
     "output_type": "execute_result"
    }
   ],
   "source": [
    "nheads = @distributed (+) for i = 1:2000000000\n",
    "    Int(rand(Bool))\n",
    "end"
   ]
  },
  {
   "cell_type": "code",
   "execution_count": 7,
   "id": "94fb596c-51d2-4db5-9d35-ef54d88104b1",
   "metadata": {},
   "outputs": [
    {
     "data": {
      "text/plain": [
       "Task (done) @0x00007fd4f52ef0f0"
      ]
     },
     "execution_count": 7,
     "metadata": {},
     "output_type": "execute_result"
    }
   ],
   "source": [
    "rmprocs(workers())"
   ]
  },
  {
   "cell_type": "code",
   "execution_count": 8,
   "id": "ea4eef5d-8564-4f5e-a5c5-82840977f608",
   "metadata": {},
   "outputs": [
    {
     "data": {
      "text/plain": [
       "1-element Vector{Int64}:\n",
       " 1"
      ]
     },
     "execution_count": 8,
     "metadata": {},
     "output_type": "execute_result"
    }
   ],
   "source": [
    "procs()"
   ]
  }
 ],
 "metadata": {
  "kernelspec": {
   "display_name": "Julia 1.8.2",
   "language": "julia",
   "name": "julia-1.8"
  },
  "language_info": {
   "file_extension": ".jl",
   "mimetype": "application/julia",
   "name": "julia",
   "version": "1.8.2"
  }
 },
 "nbformat": 4,
 "nbformat_minor": 5
}
